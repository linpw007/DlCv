{
 "cells": [
  {
   "cell_type": "markdown",
   "metadata": {},
   "source": [
    "Chapter 5"
   ]
  },
  {
   "cell_type": "markdown",
   "metadata": {},
   "source": [
    "5.2.4 函数、生成器和类"
   ]
  },
  {
   "cell_type": "markdown",
   "metadata": {},
   "source": [
    "1.函数"
   ]
  },
  {
   "cell_type": "code",
   "execution_count": 1,
   "metadata": {},
   "outputs": [
    {
     "data": {
      "text/plain": [
       "5"
      ]
     },
     "execution_count": 1,
     "metadata": {},
     "output_type": "execute_result"
    }
   ],
   "source": [
    "# 匿名函数 lambda\n",
    "lambda x : x + 1\n",
    "# 等价于\n",
    "def f_lambda(x):\n",
    "    return x + 1\n",
    "\n",
    "# 例子\n",
    "some_ops = lambda x, y: x + y\n",
    "some_ops(2, 3)"
   ]
  },
  {
   "cell_type": "markdown",
   "metadata": {},
   "source": [
    "5.2.5 map, reduce 和 filter"
   ]
  },
  {
   "cell_type": "markdown",
   "metadata": {},
   "source": [
    "map"
   ]
  },
  {
   "cell_type": "code",
   "execution_count": 21,
   "metadata": {},
   "outputs": [
    {
     "name": "stdout",
     "output_type": "stream",
     "text": [
      "1 4 9 10000 "
     ]
    }
   ],
   "source": [
    "resultMap_1 = map(lambda x: x ** 2, [1, 2, 3, 100])\n",
    "for i in resultMap_1:\n",
    "    print(i, end = ' ')"
   ]
  },
  {
   "cell_type": "code",
   "execution_count": 22,
   "metadata": {},
   "outputs": [
    {
     "name": "stdout",
     "output_type": "stream",
     "text": [
      "10000 10000 10000 "
     ]
    }
   ],
   "source": [
    "resultMap_2 = map(lambda x, y: (x + y) ** 2, [1, 2, 3], [99, 98, 97])\n",
    "# result2_map = map(lambda x, y: x ** 2 + 2 * x * y + y ** 2, [1, 2, 3], [99, 98, 97])\n",
    "for i in resultMap_2:\n",
    "    print(i, end = ' ')"
   ]
  },
  {
   "cell_type": "markdown",
   "metadata": {},
   "source": [
    "reduce"
   ]
  },
  {
   "cell_type": "code",
   "execution_count": 23,
   "metadata": {
    "scrolled": true
   },
   "outputs": [
    {
     "data": {
      "text/plain": [
       "5050"
      ]
     },
     "execution_count": 23,
     "metadata": {},
     "output_type": "execute_result"
    }
   ],
   "source": [
    "from functools import reduce\n",
    "resultReduce = reduce(lambda x, y: x + y, range(1, 101))    # (...((1 + 2) + 3) + ...) + 100 = 5050\n",
    "resultReduce"
   ]
  },
  {
   "cell_type": "markdown",
   "metadata": {},
   "source": [
    "filter"
   ]
  },
  {
   "cell_type": "code",
   "execution_count": 28,
   "metadata": {},
   "outputs": [
    {
     "name": "stdout",
     "output_type": "stream",
     "text": [
      "1 3 5 999 "
     ]
    }
   ],
   "source": [
    "resultFilter = filter(lambda x: x % 2, [1, 2, 3, 4, 5, 800, 999])\n",
    "for i in resultFilter:\n",
    "    print(i, end = ' ')"
   ]
  }
 ],
 "metadata": {
  "kernelspec": {
   "display_name": "Python 3",
   "language": "python",
   "name": "python3"
  },
  "language_info": {
   "codemirror_mode": {
    "name": "ipython",
    "version": 3
   },
   "file_extension": ".py",
   "mimetype": "text/x-python",
   "name": "python",
   "nbconvert_exporter": "python",
   "pygments_lexer": "ipython3",
   "version": "3.7.0"
  }
 },
 "nbformat": 4,
 "nbformat_minor": 2
}
