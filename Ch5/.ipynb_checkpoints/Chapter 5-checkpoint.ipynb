{
 "cells": [
  {
   "cell_type": "markdown",
   "metadata": {},
   "source": [
    "## Chapter 5"
   ]
  },
  {
   "cell_type": "markdown",
   "metadata": {},
   "source": [
    "#### 5.2.4 函数、生成器和类"
   ]
  },
  {
   "cell_type": "markdown",
   "metadata": {},
   "source": [
    "##### 1.函数"
   ]
  },
  {
   "cell_type": "code",
   "execution_count": 1,
   "metadata": {},
   "outputs": [
    {
     "data": {
      "text/plain": [
       "5"
      ]
     },
     "execution_count": 1,
     "metadata": {},
     "output_type": "execute_result"
    }
   ],
   "source": [
    "# 匿名函数 lambda\n",
    "lambda x : x + 1\n",
    "# 等价于\n",
    "def f_lambda(x):\n",
    "    return x + 1\n",
    "\n",
    "# 例子\n",
    "some_ops = lambda x, y: x + y\n",
    "some_ops(2, 3)"
   ]
  },
  {
   "cell_type": "markdown",
   "metadata": {},
   "source": [
    "#### 5.2.5 map, reduce 和 filter"
   ]
  },
  {
   "cell_type": "markdown",
   "metadata": {},
   "source": [
    "##### map"
   ]
  },
  {
   "cell_type": "code",
   "execution_count": 21,
   "metadata": {},
   "outputs": [
    {
     "name": "stdout",
     "output_type": "stream",
     "text": [
      "1 4 9 10000 "
     ]
    }
   ],
   "source": [
    "resultMap_1 = map(lambda x: x ** 2, [1, 2, 3, 100])\n",
    "for i in resultMap_1:\n",
    "    print(i, end = ' ')"
   ]
  },
  {
   "cell_type": "code",
   "execution_count": 22,
   "metadata": {},
   "outputs": [
    {
     "name": "stdout",
     "output_type": "stream",
     "text": [
      "10000 10000 10000 "
     ]
    }
   ],
   "source": [
    "resultMap_2 = map(lambda x, y: (x + y) ** 2, [1, 2, 3], [99, 98, 97])\n",
    "# result2_map = map(lambda x, y: x ** 2 + 2 * x * y + y ** 2, [1, 2, 3], [99, 98, 97])\n",
    "for i in resultMap_2:\n",
    "    print(i, end = ' ')"
   ]
  },
  {
   "cell_type": "markdown",
   "metadata": {},
   "source": [
    "##### reduce"
   ]
  },
  {
   "cell_type": "code",
   "execution_count": 23,
   "metadata": {
    "scrolled": true
   },
   "outputs": [
    {
     "data": {
      "text/plain": [
       "5050"
      ]
     },
     "execution_count": 23,
     "metadata": {},
     "output_type": "execute_result"
    }
   ],
   "source": [
    "from functools import reduce\n",
    "resultReduce = reduce(lambda x, y: x + y, range(1, 101))    # (...((1 + 2) + 3) + ...) + 100 = 5050\n",
    "resultReduce"
   ]
  },
  {
   "cell_type": "markdown",
   "metadata": {},
   "source": [
    "##### filter"
   ]
  },
  {
   "cell_type": "code",
   "execution_count": 28,
   "metadata": {},
   "outputs": [
    {
     "name": "stdout",
     "output_type": "stream",
     "text": [
      "1 3 5 999 "
     ]
    }
   ],
   "source": [
    "resultFilter = filter(lambda x: x % 2, [1, 2, 3, 4, 5, 800, 999])\n",
    "for i in resultFilter:\n",
    "    print(i, end = ' ')"
   ]
  },
  {
   "cell_type": "markdown",
   "metadata": {},
   "source": [
    "### 5.4 matplotlib"
   ]
  },
  {
   "cell_type": "markdown",
   "metadata": {},
   "source": [
    "#### 5.4.1 2D"
   ]
  },
  {
   "cell_type": "code",
   "execution_count": 4,
   "metadata": {},
   "outputs": [
    {
     "name": "stdout",
     "output_type": "stream",
     "text": [
      "Using matplotlib backend: MacOSX\n",
      "Populating the interactive namespace from numpy and matplotlib\n"
     ]
    }
   ],
   "source": [
    "% pylab\n",
    "# 在命令行模式下的话，应该：\n",
    "# import numpy as np\n",
    "# import matplotlib as mlp\n",
    "# import matplotlib.pyplot as plt"
   ]
  },
  {
   "cell_type": "markdown",
   "metadata": {},
   "source": [
    "点线图"
   ]
  },
  {
   "cell_type": "code",
   "execution_count": 18,
   "metadata": {},
   "outputs": [],
   "source": [
    "# 用 rcParams 设置全局横纵轴字体大小\n",
    "mpl.rcParams['xtick.labelsize'] = 24\n",
    "mpl.rcParams['ytick.labelsize'] = 24\n",
    "\n",
    "np.random.seed(42)\n",
    "\n",
    "# x 轴的采样点\n",
    "x = np.linspace(0, 5, 100)\n",
    "# 通过下面曲线加上噪声生成数据，所以拟合模型就用 y\n",
    "y = 2 * np.sin(x) + 0.3 * x ** 2\n",
    "yData = y + np.random.normal(scale = 0.3, size = 100)\n",
    "\n",
    "# figure 函数指定图表名称\n",
    "plt.figure('data', figsize = (3, 3), dpi = 80)\n",
    "# '.' 告诉 plot 画散点图，不要画默认的线形图，每个散点形状是个圆点，见图 data\n",
    "plt.plot(x, yData, '.')\n",
    "plt.savefig('data.png')\n",
    "\n",
    "# 画模型的图，plot 函数默认画线形图，见图 model\n",
    "plt.figure('model', figsize = (3, 3), dpi = 80)\n",
    "plt.plot(x, y)\n",
    "plt.savefig('model.png')\n",
    "\n",
    "# 两个图画在一起，见图 dataAndModel\n",
    "plt.figure('dataAndModel', figsize = (3, 3), dpi = 80)\n",
    "#  第3个参数 'k' 指定线颜色，还可以一并指定线型，比如红色虚线 'r--'，第4个参数 lw 指定线宽\n",
    "plt.plot(x, y, 'k', lw = 3)\n",
    "# scatter 才是默认生成散点图的函数\n",
    "plt.scatter(x, yData)\n",
    "plt.savefig('dataAndModel.png')\n",
    "\n",
    "# 如在命令行模式\n",
    "# 未用如 %pylab 的方法开启 matplotlib 后台显示功能，用下面语句显示图像\n",
    "plt.show()"
   ]
  },
  {
   "cell_type": "markdown",
   "metadata": {},
   "source": [
    "柱饼图"
   ]
  }
 ],
 "metadata": {
  "kernelspec": {
   "display_name": "Python 3",
   "language": "python",
   "name": "python3"
  },
  "language_info": {
   "codemirror_mode": {
    "name": "ipython",
    "version": 3
   },
   "file_extension": ".py",
   "mimetype": "text/x-python",
   "name": "python",
   "nbconvert_exporter": "python",
   "pygments_lexer": "ipython3",
   "version": "3.7.0"
  }
 },
 "nbformat": 4,
 "nbformat_minor": 2
}
