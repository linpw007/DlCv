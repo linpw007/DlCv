{
 "cells": [
  {
   "cell_type": "markdown",
   "metadata": {},
   "source": [
    "## Chapter 5"
   ]
  },
  {
   "cell_type": "markdown",
   "metadata": {},
   "source": [
    "#### 5.2.4 函数、生成器和类"
   ]
  },
  {
   "cell_type": "markdown",
   "metadata": {},
   "source": [
    "##### 1.函数"
   ]
  },
  {
   "cell_type": "code",
   "execution_count": 1,
   "metadata": {},
   "outputs": [
    {
     "data": {
      "text/plain": [
       "5"
      ]
     },
     "execution_count": 1,
     "metadata": {},
     "output_type": "execute_result"
    }
   ],
   "source": [
    "# 匿名函数 lambda\n",
    "lambda x : x + 1\n",
    "# 等价于\n",
    "def f_lambda(x):\n",
    "    return x + 1\n",
    "\n",
    "# 例子\n",
    "some_ops = lambda x, y: x + y\n",
    "some_ops(2, 3)"
   ]
  },
  {
   "cell_type": "markdown",
   "metadata": {},
   "source": [
    "#### 5.2.5 map, reduce 和 filter"
   ]
  },
  {
   "cell_type": "markdown",
   "metadata": {},
   "source": [
    "##### map"
   ]
  },
  {
   "cell_type": "code",
   "execution_count": 21,
   "metadata": {},
   "outputs": [
    {
     "name": "stdout",
     "output_type": "stream",
     "text": [
      "1 4 9 10000 "
     ]
    }
   ],
   "source": [
    "resultMap_1 = map(lambda x: x ** 2, [1, 2, 3, 100])\n",
    "for i in resultMap_1:\n",
    "    print(i, end = ' ')"
   ]
  },
  {
   "cell_type": "code",
   "execution_count": 22,
   "metadata": {},
   "outputs": [
    {
     "name": "stdout",
     "output_type": "stream",
     "text": [
      "10000 10000 10000 "
     ]
    }
   ],
   "source": [
    "resultMap_2 = map(lambda x, y: (x + y) ** 2, [1, 2, 3], [99, 98, 97])\n",
    "# result2_map = map(lambda x, y: x ** 2 + 2 * x * y + y ** 2, [1, 2, 3], [99, 98, 97])\n",
    "for i in resultMap_2:\n",
    "    print(i, end = ' ')"
   ]
  },
  {
   "cell_type": "markdown",
   "metadata": {},
   "source": [
    "##### reduce"
   ]
  },
  {
   "cell_type": "code",
   "execution_count": 23,
   "metadata": {
    "scrolled": true
   },
   "outputs": [
    {
     "data": {
      "text/plain": [
       "5050"
      ]
     },
     "execution_count": 23,
     "metadata": {},
     "output_type": "execute_result"
    }
   ],
   "source": [
    "from functools import reduce\n",
    "resultReduce = reduce(lambda x, y: x + y, range(1, 101))    # (...((1 + 2) + 3) + ...) + 100 = 5050\n",
    "resultReduce"
   ]
  },
  {
   "cell_type": "markdown",
   "metadata": {},
   "source": [
    "##### filter"
   ]
  },
  {
   "cell_type": "code",
   "execution_count": 28,
   "metadata": {},
   "outputs": [
    {
     "name": "stdout",
     "output_type": "stream",
     "text": [
      "1 3 5 999 "
     ]
    }
   ],
   "source": [
    "resultFilter = filter(lambda x: x % 2, [1, 2, 3, 4, 5, 800, 999])\n",
    "for i in resultFilter:\n",
    "    print(i, end = ' ')"
   ]
  },
  {
   "cell_type": "markdown",
   "metadata": {},
   "source": [
    "### 5.4 matplotlib"
   ]
  },
  {
   "cell_type": "markdown",
   "metadata": {},
   "source": [
    "#### 5.4.1 2D"
   ]
  },
  {
   "cell_type": "code",
   "execution_count": 1,
   "metadata": {},
   "outputs": [
    {
     "name": "stdout",
     "output_type": "stream",
     "text": [
      "Using matplotlib backend: MacOSX\n",
      "Populating the interactive namespace from numpy and matplotlib\n"
     ]
    }
   ],
   "source": [
    "% pylab\n",
    "# 在命令行模式下的话，应该：\n",
    "# import numpy as np\n",
    "# import matplotlib as mlp\n",
    "# import matplotlib.pyplot as plt"
   ]
  },
  {
   "cell_type": "markdown",
   "metadata": {},
   "source": [
    "点线图"
   ]
  },
  {
   "cell_type": "code",
   "execution_count": 27,
   "metadata": {},
   "outputs": [],
   "source": [
    "# 用 rcParams 设置全局横纵轴字体大小\n",
    "mpl.rcParams['xtick.labelsize'] = 12\n",
    "mpl.rcParams['ytick.labelsize'] = 12\n",
    "\n",
    "np.random.seed(42)\n",
    "\n",
    "# x 轴的采样点\n",
    "x = np.linspace(0, 5, 100)\n",
    "# 通过下面曲线加上噪声生成数据，所以拟合模型就用 y\n",
    "y = 2 * np.sin(x) + 0.3 * x ** 2\n",
    "yData = y + np.random.normal(scale = 0.3, size = 100)\n",
    "\n",
    "# figure 函数指定图表名称\n",
    "plt.figure('data', figsize = (5, 5), dpi = 100)\n",
    "# '.' 告诉 plot 画散点图，不要画默认的线形图，每个散点形状是个圆点，见图 data\n",
    "plt.plot(x, yData, '.')\n",
    "plt.savefig('data.png')\n",
    "\n",
    "# 画模型的图，plot 函数默认画线形图，见图 model\n",
    "plt.figure('model', figsize = (5, 5), dpi = 100)\n",
    "plt.plot(x, y)\n",
    "plt.savefig('model.png')\n",
    "\n",
    "# 两个图画在一起，见图 dataAndModel\n",
    "plt.figure('dataAndModel', figsize = (5, 5), dpi = 100)\n",
    "#  第3个参数 'k' 指定线颜色，还可以一并指定线型，比如红色虚线 'r--'，第4个参数 lw 指定线宽\n",
    "plt.plot(x, y, 'k', lw = 3)\n",
    "# scatter 才是默认生成散点图的函数\n",
    "plt.scatter(x, yData)\n",
    "plt.savefig('dataAndModel.png')\n",
    "\n",
    "# 如在命令行模式\n",
    "# 未用如 %pylab 的方法开启 matplotlib 后台显示功能，用下面语句显示图像\n",
    "plt.show()"
   ]
  },
  {
   "cell_type": "markdown",
   "metadata": {},
   "source": [
    "<!--测试了 n 种方法，终于可以并排显示图片了-->\n",
    "<table>\n",
    "    <td><img src=\"data.png\"></td>\n",
    "    <td><img src=\"model.png\"></td>\n",
    "    <td><img src=\"dataAndModel.png\"></td>\n",
    "</table>\n",
    "\n",
    "<!--\n",
    "![data.png](data.png)\n",
    "![model.png](model.png)\n",
    "![dataAndModel.png](dataAndModel.png)\n",
    "-->\n",
    "\n",
    "<!--\n",
    "<figure>\n",
    "    <img src=\"data.png\">\n",
    "    <img src=\"model.png\">\n",
    "    <img src=\"dataAndModel.png\">\n",
    "</figure>\n",
    "-->\n",
    "\n",
    "<!--\n",
    "<div>\n",
    "  <img src='data.png'>\n",
    "  <img src='model.png'>\n",
    "  <img src='dataAndModel.png'>\n",
    "</div>\n",
    "-->\n",
    "\n",
    "<!--\n",
    "  <img src='data.png'>\n",
    "  <img src='model.png'>\n",
    "  <img src='dataAndModel.png'>\n",
    "-->"
   ]
  },
  {
   "cell_type": "markdown",
   "metadata": {},
   "source": [
    "柱饼图"
   ]
  },
  {
   "cell_type": "code",
   "execution_count": 25,
   "metadata": {},
   "outputs": [],
   "source": [
    "speedMap = {'dog': (48, 'yellow'), 'cat': (45, 'orange'), 'cheetah': (120, 'black')}\n",
    "fig = plt.figure('barAndPie', figsize = (6, 3), dpi = 100)\n",
    "# 画子图 1\n",
    "ax1 = fig.add_subplot(121)\n",
    "ax1.set_title('barChart')\n",
    "xTicks = np.arange(3)\n",
    "barWidth = 0.5\n",
    "animals = speedMap.keys()\n",
    "speeds = [x[0] for x in speedMap.values()]\n",
    "colors = [x[1] for x in speedMap.values()]\n",
    "bars = ax1.bar(xTicks, speeds, width = barWidth, edgecolor = 'none')\n",
    "ax1.set_ylabel('Speed km/h')\n",
    "ax1.set_xticks(xTicks + barWidth / 2)\n",
    "ax1.set_xticklabels(animals)\n",
    "\n",
    "ax1.set_xlim([barWidth/2 - 1, 3 - barWidth / 2])\n",
    "ax1.set_ylim([0, 125])\n",
    "\n",
    "for bar, color in zip(bars, colors):\n",
    "    bar.set_color(color)\n",
    "\n",
    "# 画子图 2\n",
    "ax2 = fig.add_subplot(122)\n",
    "ax2.set_title('pieChart')\n",
    "\n",
    "labels = ['{}\\n{} km/h'.format(a, s) for a, s in zip(animals, speeds)]\n",
    "\n",
    "ax2.pie(speeds, labels = labels, colors = colors)\n",
    "\n",
    "plt.axis('equal')\n",
    "\n",
    "plt.savefig('barAndPie.png')\n",
    "\n",
    "# 如在命令行模式\n",
    "# 未用如 %pylab 的方法开启 matplotlib 后台显示功能，用下面语句显示图像\n",
    "plt.show()"
   ]
  },
  {
   "cell_type": "markdown",
   "metadata": {},
   "source": [
    "![barAndPie.png](barAndPie.png)"
   ]
  },
  {
   "cell_type": "markdown",
   "metadata": {},
   "source": [
    "#### 5.4.2 3D"
   ]
  },
  {
   "cell_type": "code",
   "execution_count": 2,
   "metadata": {},
   "outputs": [],
   "source": [
    "from mpl_toolkits.mplot3d import Axes3D"
   ]
  },
  {
   "cell_type": "code",
   "execution_count": 3,
   "metadata": {},
   "outputs": [],
   "source": [
    "np.random.seed(42)\n",
    "nGrids = 51\n",
    "center = nGrids // 2    # 中心位置，注意！ 此处需要用 // ，而不能用书里的 / ，否则会报 TypeError: slice indices must be integers or None or have an __index__ method 错误\n",
    "nf = 2\n",
    "\n",
    "x = np.linspace(0, 1, nGrids)\n",
    "y = np.linspace(0, 1, nGrids)\n",
    "\n",
    "X, Y = np.meshgrid(x, y)\n",
    "\n",
    "spectrum = np.zeros((nGrids, nGrids), dtype = np.complex)\n",
    "# 生成一段噪音，长度是 (2 * nf + 1) ** 2 / 2 ,注意！此处要进行类型转换，float -> int ,否则会报 TypeError: 'float' object cannot be interpreted as an integer 错误\n",
    "noise = [np.complex(x, y) for x, y in np.random.uniform(-1, 1, (int((2 * nf + 1) ** 2 / 2), 2))]\n",
    "\n",
    "noisyBlock = np.concatenate((noise, [0j], np.conjugate(noise[::-1])))\n",
    "\n",
    "spectrum[(center - nf): (center + nf + 1), (center - nf): (center + nf + 1)] = noisyBlock.reshape((2 * nf + 1, 2 * nf + 1))\n",
    "\n",
    "Z = np.real(np.fft.ifft2(np.fft.ifftshift(spectrum)))\n",
    "# 创建图表\n",
    "fig = plt.figure('3D-SurfaceAndWire', figsize = (10, 5), dpi = 100)\n",
    "\n",
    "ax1 = fig.add_subplot(121, projection = '3d')\n",
    "ax1.set_title('Surface')\n",
    "\n",
    "ax1.plot_surface(X, Y, Z, alpha = 0.7, cmap = 'jet', rstride = 1, cstride = 1, lw = 0)\n",
    "\n",
    "ax2 = fig.add_subplot(122, projection = '3d')\n",
    "ax2.set_title('WireFrame')\n",
    "\n",
    "ax2.plot_wireframe(X, Y, Z, rstride = 3, cstride = 3, lw = 0.5)\n",
    "\n",
    "plt.savefig('3D-SurfaceAndWire.png')\n",
    "\n",
    "# 如在命令行模式\n",
    "# 未用如 %pylab 的方法开启 matplotlib 后台显示功能，用下面语句显示图像\n",
    "plt.show()"
   ]
  }
 ],
 "metadata": {
  "kernelspec": {
   "display_name": "Python 3",
   "language": "python",
   "name": "python3"
  },
  "language_info": {
   "codemirror_mode": {
    "name": "ipython",
    "version": 3
   },
   "file_extension": ".py",
   "mimetype": "text/x-python",
   "name": "python",
   "nbconvert_exporter": "python",
   "pygments_lexer": "ipython3",
   "version": "3.7.0"
  }
 },
 "nbformat": 4,
 "nbformat_minor": 2
}
